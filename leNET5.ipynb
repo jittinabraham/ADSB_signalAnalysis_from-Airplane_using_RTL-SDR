{
  "nbformat": 4,
  "nbformat_minor": 0,
  "metadata": {
    "colab": {
      "provenance": [],
      "gpuType": "T4",
      "name": "leNET5.ipynb",
      "authorship_tag": "ABX9TyMilVoh8XtzOSSBZd8Vsxwv",
      "include_colab_link": true
    },
    "kernelspec": {
      "name": "python3",
      "display_name": "Python 3"
    },
    "language_info": {
      "name": "python"
    },
    "accelerator": "GPU"
  },
  "cells": [
    {
      "cell_type": "markdown",
      "metadata": {
        "id": "view-in-github",
        "colab_type": "text"
      },
      "source": [
        "<a href=\"https://colab.research.google.com/github/jittinabraham/ADSB_signalAnalysis_from-Airplane_using_RTL-SDR/blob/master/leNET5.ipynb\" target=\"_parent\"><img src=\"https://colab.research.google.com/assets/colab-badge.svg\" alt=\"Open In Colab\"/></a>"
      ]
    },
    {
      "cell_type": "code",
      "source": [
        "import tensorflow as tf\n",
        "import matplotlib as plt\n",
        "import os\n",
        "from tensorflow.keras import layers\n",
        "from tensorflow.keras import models\n",
        "from tensorflow.keras.datasets import mnist\n",
        "from tensorflow.keras.utils import to_categorical\n",
        "from google.colab import drive\n",
        "drive.mount('/content/gdrive')\n",
        "root_dir = 'gdrive/MyDrive/mnist/'"
      ],
      "metadata": {
        "colab": {
          "base_uri": "https://localhost:8080/"
        },
        "id": "4MPHt-vwa1Vp",
        "outputId": "9af7e7b4-a5ed-4790-90c1-5c4eda704b94"
      },
      "execution_count": null,
      "outputs": [
        {
          "output_type": "stream",
          "name": "stdout",
          "text": [
            "Drive already mounted at /content/gdrive; to attempt to forcibly remount, call drive.mount(\"/content/gdrive\", force_remount=True).\n"
          ]
        }
      ]
    },
    {
      "cell_type": "code",
      "source": [
        "model=models.Sequential()\n",
        "model.add(layers.Conv2D( 6, (5, 5),padding = 'same', activation='relu',input_shape=(28,28,1)))\n",
        "model.summary()\n",
        "#model.add(layers.MaxPooling2D((2,2)))\n",
        "\n",
        "model.add(layers.Conv2D(16 , (5, 5), activation='relu'))\n",
        "model.add(layers.MaxPooling2D((2,2)))\n",
        "model.add(layers.Conv2D( 120, (5, 5), activation='relu'))\n",
        "model.summary()\n"
      ],
      "metadata": {
        "colab": {
          "base_uri": "https://localhost:8080/"
        },
        "id": "vgW5DmGGajxd",
        "outputId": "9b2ab7c2-c054-4f68-e189-b386b62342a2"
      },
      "execution_count": null,
      "outputs": [
        {
          "output_type": "stream",
          "name": "stdout",
          "text": [
            "Model: \"sequential_58\"\n",
            "_________________________________________________________________\n",
            " Layer (type)                Output Shape              Param #   \n",
            "=================================================================\n",
            " conv2d_109 (Conv2D)         (None, 28, 28, 6)         156       \n",
            "                                                                 \n",
            "=================================================================\n",
            "Total params: 156\n",
            "Trainable params: 156\n",
            "Non-trainable params: 0\n",
            "_________________________________________________________________\n",
            "Model: \"sequential_58\"\n",
            "_________________________________________________________________\n",
            " Layer (type)                Output Shape              Param #   \n",
            "=================================================================\n",
            " conv2d_109 (Conv2D)         (None, 28, 28, 6)         156       \n",
            "                                                                 \n",
            " conv2d_110 (Conv2D)         (None, 24, 24, 16)        2416      \n",
            "                                                                 \n",
            " max_pooling2d_59 (MaxPoolin  (None, 12, 12, 16)       0         \n",
            " g2D)                                                            \n",
            "                                                                 \n",
            " conv2d_111 (Conv2D)         (None, 8, 8, 120)         48120     \n",
            "                                                                 \n",
            "=================================================================\n",
            "Total params: 50,692\n",
            "Trainable params: 50,692\n",
            "Non-trainable params: 0\n",
            "_________________________________________________________________\n"
          ]
        }
      ]
    },
    {
      "cell_type": "code",
      "source": [
        "model.add(layers.Flatten())\n",
        "\n",
        "model.add(layers.Dense( 120, activation='relu'))\n",
        "model.add(layers.Dense(10, activation = 'softmax'))"
      ],
      "metadata": {
        "id": "7YIXR2ymdGvu"
      },
      "execution_count": null,
      "outputs": []
    },
    {
      "cell_type": "code",
      "source": [],
      "metadata": {
        "id": "TWmKxb8xam0Y"
      },
      "execution_count": null,
      "outputs": []
    },
    {
      "cell_type": "code",
      "source": [],
      "metadata": {
        "colab": {
          "base_uri": "https://localhost:8080/"
        },
        "id": "5MDIwd8IOwFj",
        "outputId": "d639b650-4d74-4fc9-d4cc-a4960191bf7c"
      },
      "execution_count": null,
      "outputs": [
        {
          "output_type": "stream",
          "name": "stdout",
          "text": [
            "Model: \"sequential_12\"\n",
            "_________________________________________________________________\n",
            " Layer (type)                Output Shape              Param #   \n",
            "=================================================================\n",
            " conv2d_16 (Conv2D)          (None, 14, 14, 6)         1356      \n",
            "                                                                 \n",
            " max_pooling2d_9 (MaxPooling  (None, 7, 7, 6)          0         \n",
            " 2D)                                                             \n",
            "                                                                 \n",
            " conv2d_17 (Conv2D)          (None, 1, 1, 10)          2950      \n",
            "                                                                 \n",
            " flatten_3 (Flatten)         (None, 10)                0         \n",
            "                                                                 \n",
            " dense_1 (Dense)             (None, 10)                110       \n",
            "                                                                 \n",
            "=================================================================\n",
            "Total params: 4,416\n",
            "Trainable params: 4,416\n",
            "Non-trainable params: 0\n",
            "_________________________________________________________________\n"
          ]
        }
      ]
    },
    {
      "cell_type": "code",
      "source": [
        "(train_images_org, train_labels_org), (test_images_org,test_labels_org) = mnist.load_data()\n",
        "# Display the dimensions of the original training set\n"
      ],
      "metadata": {
        "id": "V_rR2BTePB9J"
      },
      "execution_count": null,
      "outputs": []
    },
    {
      "cell_type": "code",
      "source": [
        "print(train_images_org.shape)\n",
        "# smaller set\n",
        "a = 30000\n",
        "b = 4000\n",
        "train_images = train_images_org[0:a]\n",
        "train_labels = train_labels_org[0:a]"
      ],
      "metadata": {
        "colab": {
          "base_uri": "https://localhost:8080/"
        },
        "id": "3G_PIg1uPffB",
        "outputId": "1610a7be-dce5-45bc-b382-9654c80b716e"
      },
      "execution_count": null,
      "outputs": [
        {
          "output_type": "stream",
          "name": "stdout",
          "text": [
            "(60000, 28, 28)\n"
          ]
        }
      ]
    },
    {
      "cell_type": "code",
      "source": [
        "test_images = test_images_org[0:b]\n",
        "test_labels = test_labels_org[0:b]\n",
        "# Display the dimensions of the reduced training set (for control)\n",
        "print(train_images.shape)"
      ],
      "metadata": {
        "colab": {
          "base_uri": "https://localhost:8080/"
        },
        "id": "Sya-xbXQPpA0",
        "outputId": "5ce8efa6-a732-42ec-c71a-26796d979ce8"
      },
      "execution_count": null,
      "outputs": [
        {
          "output_type": "stream",
          "name": "stdout",
          "text": [
            "(30000, 28, 28)\n"
          ]
        }
      ]
    },
    {
      "cell_type": "code",
      "source": [
        "# prepare data sets for Keras, 1st reshape, then normalize\n",
        "train_images = train_images.reshape((a, 28, 28, 1))\n",
        "train_images = train_images.astype('float32') / 255\n",
        "test_images = test_images.reshape((b, 28, 28, 1))\n",
        "test_images = test_images.astype('float32') / 255\n",
        "train_labels = to_categorical(train_labels)\n",
        "test_labels = to_categorical(test_labels)\n"
      ],
      "metadata": {
        "id": "hBt7P_6RPvog"
      },
      "execution_count": null,
      "outputs": []
    },
    {
      "cell_type": "code",
      "source": [
        "# set the training paramters to RMSprop, and the loss according to ...\n",
        "\n",
        "model.compile(optimizer='rmsprop',\n",
        "loss='categorical_crossentropy',\n",
        "metrics=['accuracy'])\n",
        "# Train the model. Record the results for later analysis\n",
        "history = model.fit(train_images, train_labels, epochs=30,batch_size=32)\n",
        "# save the trained model to your desired location\n",
        "save_dir = os.path.join(root_dir, 'mnist_conv_net.h5')\n",
        "model.save(save_dir)"
      ],
      "metadata": {
        "colab": {
          "base_uri": "https://localhost:8080/"
        },
        "id": "tUDxUgEihc_g",
        "outputId": "4a30464a-3c1d-43bd-dff2-fd1b6e454ae6"
      },
      "execution_count": null,
      "outputs": [
        {
          "output_type": "stream",
          "name": "stdout",
          "text": [
            "Epoch 1/30\n",
            "938/938 [==============================] - 5s 4ms/step - loss: 5.1163e-08 - accuracy: 1.0000\n",
            "Epoch 2/30\n",
            "938/938 [==============================] - 4s 5ms/step - loss: 3.7844e-08 - accuracy: 1.0000\n",
            "Epoch 3/30\n",
            "938/938 [==============================] - 4s 5ms/step - loss: 3.2305e-08 - accuracy: 1.0000\n",
            "Epoch 4/30\n",
            "938/938 [==============================] - 4s 4ms/step - loss: 2.8817e-08 - accuracy: 1.0000\n",
            "Epoch 5/30\n",
            "938/938 [==============================] - 4s 4ms/step - loss: 2.6345e-08 - accuracy: 1.0000\n",
            "Epoch 6/30\n",
            "938/938 [==============================] - 5s 5ms/step - loss: 2.4334e-08 - accuracy: 1.0000\n",
            "Epoch 7/30\n",
            "938/938 [==============================] - 4s 4ms/step - loss: 2.2769e-08 - accuracy: 1.0000\n",
            "Epoch 8/30\n",
            "938/938 [==============================] - 4s 4ms/step - loss: 2.1442e-08 - accuracy: 1.0000\n",
            "Epoch 9/30\n",
            "938/938 [==============================] - 5s 5ms/step - loss: 2.0381e-08 - accuracy: 1.0000\n",
            "Epoch 10/30\n",
            "938/938 [==============================] - 4s 4ms/step - loss: 1.9419e-08 - accuracy: 1.0000\n",
            "Epoch 11/30\n",
            "938/938 [==============================] - 4s 4ms/step - loss: 1.8597e-08 - accuracy: 1.0000\n",
            "Epoch 12/30\n",
            "938/938 [==============================] - 4s 5ms/step - loss: 1.7806e-08 - accuracy: 1.0000\n",
            "Epoch 13/30\n",
            "938/938 [==============================] - 4s 4ms/step - loss: 1.7150e-08 - accuracy: 1.0000\n",
            "Epoch 14/30\n",
            "938/938 [==============================] - 4s 4ms/step - loss: 1.6534e-08 - accuracy: 1.0000\n",
            "Epoch 15/30\n",
            "938/938 [==============================] - 4s 4ms/step - loss: 1.5950e-08 - accuracy: 1.0000\n",
            "Epoch 16/30\n",
            "938/938 [==============================] - 4s 5ms/step - loss: 1.5457e-08 - accuracy: 1.0000\n",
            "Epoch 17/30\n",
            "938/938 [==============================] - 4s 4ms/step - loss: 1.4996e-08 - accuracy: 1.0000\n",
            "Epoch 18/30\n",
            "938/938 [==============================] - 4s 4ms/step - loss: 1.4559e-08 - accuracy: 1.0000\n",
            "Epoch 19/30\n",
            "938/938 [==============================] - 5s 5ms/step - loss: 1.4158e-08 - accuracy: 1.0000\n",
            "Epoch 20/30\n",
            "938/938 [==============================] - 4s 4ms/step - loss: 1.3765e-08 - accuracy: 1.0000\n",
            "Epoch 21/30\n",
            "938/938 [==============================] - 4s 4ms/step - loss: 1.3399e-08 - accuracy: 1.0000\n",
            "Epoch 22/30\n",
            "938/938 [==============================] - 4s 5ms/step - loss: 1.3045e-08 - accuracy: 1.0000\n",
            "Epoch 23/30\n",
            "938/938 [==============================] - 4s 4ms/step - loss: 1.2775e-08 - accuracy: 1.0000\n",
            "Epoch 24/30\n",
            "938/938 [==============================] - 4s 4ms/step - loss: 1.2477e-08 - accuracy: 1.0000\n",
            "Epoch 25/30\n",
            "938/938 [==============================] - 4s 5ms/step - loss: 1.2199e-08 - accuracy: 1.0000\n",
            "Epoch 26/30\n",
            "938/938 [==============================] - 4s 5ms/step - loss: 1.1905e-08 - accuracy: 1.0000\n",
            "Epoch 27/30\n",
            "938/938 [==============================] - 4s 4ms/step - loss: 1.1671e-08 - accuracy: 1.0000\n",
            "Epoch 28/30\n",
            "938/938 [==============================] - 4s 4ms/step - loss: 1.1428e-08 - accuracy: 1.0000\n",
            "Epoch 29/30\n",
            "938/938 [==============================] - 5s 5ms/step - loss: 1.1210e-08 - accuracy: 1.0000\n",
            "Epoch 30/30\n",
            "938/938 [==============================] - 4s 4ms/step - loss: 1.0991e-08 - accuracy: 1.0000\n"
          ]
        }
      ]
    },
    {
      "cell_type": "code",
      "source": [
        "test_loss, test_acc = model.evaluate(test_images, test_labels)\n",
        "# show the accuracy\n",
        "print('Test accuracy: ', test_acc*100)"
      ],
      "metadata": {
        "colab": {
          "base_uri": "https://localhost:8080/"
        },
        "id": "8awA_rDNQTCp",
        "outputId": "79f8d157-f351-4d0e-88d8-353f1a00fa7b"
      },
      "execution_count": null,
      "outputs": [
        {
          "output_type": "stream",
          "name": "stdout",
          "text": [
            "125/125 [==============================] - 1s 5ms/step - loss: 0.1673 - accuracy: 0.9872\n",
            "Test accuracy:  98.72499704360962\n"
          ]
        }
      ]
    },
    {
      "cell_type": "code",
      "source": [],
      "metadata": {
        "colab": {
          "base_uri": "https://localhost:8080/"
        },
        "id": "u_4cgYYzQgmR",
        "outputId": "0069927a-7b8b-490d-cd69-e3f100775283"
      },
      "execution_count": null,
      "outputs": [
        {
          "output_type": "display_data",
          "data": {
            "text/plain": [
              "<Figure size 640x480 with 1 Axes>"
            ],
            "image/png": "[encoded data removed]"
          },
          "metadata": {}
        },
        {
          "output_type": "display_data",
          "data": {
            "text/plain": [
              "<Figure size 640x480 with 1 Axes>"
            ],
            "image/png": "[encoded data removed]"
          },
          "metadata": {}
        }
      ]
    },
    {
      "cell_type": "markdown",
      "source": [
        "# New Section"
      ],
      "metadata": {
        "id": "bEwzfD9qf3yW"
      }
    }
  ]
}